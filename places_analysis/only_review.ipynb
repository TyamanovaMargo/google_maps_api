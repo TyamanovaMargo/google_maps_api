{
 "cells": [
  {
   "cell_type": "code",
   "execution_count": 1,
   "id": "dce54e1d",
   "metadata": {},
   "outputs": [],
   "source": [
    "import json\n",
    "\n",
    "# Загрузка исходных данных\n",
    "with open(\"/Users/margotiamanova/Desktop/google_maps_api/places_analysis/data/places_results.json\", \"r\") as f:\n",
    "    data = json.load(f)\n",
    "\n",
    "output = []\n",
    "\n",
    "for place in data.get(\"places\", []):\n",
    "    name = place.get(\"name\")\n",
    "    reviews_raw = place.get(\"reviews\", [])\n",
    "\n",
    "    reviews = []\n",
    "    for review in reviews_raw:\n",
    "        author = review.get(\"author_name\")\n",
    "        rating = review.get(\"rating\")\n",
    "        text = review.get(\"text\")\n",
    "\n",
    "        if author and rating is not None and text:\n",
    "            reviews.append({\n",
    "                \"author_name\": author,\n",
    "                \"rating\": rating,\n",
    "                \"text\": text.strip()\n",
    "            })\n",
    "\n",
    "    if name and reviews:\n",
    "        output.append({\n",
    "            \"name\": name,\n",
    "            \"reviews\": reviews\n",
    "        })\n",
    "\n",
    "# Сохраняем результат\n",
    "with open(\"reports/business_reviews.json\", \"w\") as f:\n",
    "    json.dump(output, f, indent=2, ensure_ascii=False)\n"
   ]
  },
  {
   "cell_type": "code",
   "execution_count": 5,
   "id": "c37981d7",
   "metadata": {},
   "outputs": [
    {
     "name": "stdout",
     "output_type": "stream",
     "text": [
      "Collecting textblob\n",
      "  Downloading textblob-0.19.0-py3-none-any.whl.metadata (4.4 kB)\n",
      "Collecting nltk>=3.9 (from textblob)\n",
      "  Using cached nltk-3.9.1-py3-none-any.whl.metadata (2.9 kB)\n",
      "Collecting click (from nltk>=3.9->textblob)\n",
      "  Using cached click-8.2.1-py3-none-any.whl.metadata (2.5 kB)\n",
      "Collecting joblib (from nltk>=3.9->textblob)\n",
      "  Using cached joblib-1.5.1-py3-none-any.whl.metadata (5.6 kB)\n",
      "Collecting regex>=2021.8.3 (from nltk>=3.9->textblob)\n",
      "  Using cached regex-2024.11.6-cp310-cp310-macosx_11_0_arm64.whl.metadata (40 kB)\n",
      "Collecting tqdm (from nltk>=3.9->textblob)\n",
      "  Using cached tqdm-4.67.1-py3-none-any.whl.metadata (57 kB)\n",
      "Downloading textblob-0.19.0-py3-none-any.whl (624 kB)\n",
      "\u001b[2K   \u001b[90m━━━━━━━━━━━━━━━━━━━━━━━━━━━━━━━━━━━━━━━━\u001b[0m \u001b[32m624.3/624.3 kB\u001b[0m \u001b[31m4.6 MB/s\u001b[0m eta \u001b[36m0:00:00\u001b[0m-:--:--\u001b[0m\n",
      "\u001b[?25hUsing cached nltk-3.9.1-py3-none-any.whl (1.5 MB)\n",
      "Using cached regex-2024.11.6-cp310-cp310-macosx_11_0_arm64.whl (284 kB)\n",
      "Using cached click-8.2.1-py3-none-any.whl (102 kB)\n",
      "Using cached joblib-1.5.1-py3-none-any.whl (307 kB)\n",
      "Using cached tqdm-4.67.1-py3-none-any.whl (78 kB)\n",
      "Installing collected packages: tqdm, regex, joblib, click, nltk, textblob\n",
      "\u001b[2K   \u001b[90m━━━━━━━━━━━━━━━━━━━━━━━━━━━━━━━━━━━━━━━━\u001b[0m \u001b[32m6/6\u001b[0m [textblob]4/6\u001b[0m [nltk]b]\n",
      "\u001b[1A\u001b[2KSuccessfully installed click-8.2.1 joblib-1.5.1 nltk-3.9.1 regex-2024.11.6 textblob-0.19.0 tqdm-4.67.1\n",
      "\n",
      "\u001b[1m[\u001b[0m\u001b[34;49mnotice\u001b[0m\u001b[1;39;49m]\u001b[0m\u001b[39;49m A new release of pip is available: \u001b[0m\u001b[31;49m25.1\u001b[0m\u001b[39;49m -> \u001b[0m\u001b[32;49m25.1.1\u001b[0m\n",
      "\u001b[1m[\u001b[0m\u001b[34;49mnotice\u001b[0m\u001b[1;39;49m]\u001b[0m\u001b[39;49m To update, run: \u001b[0m\u001b[32;49mpython3.10 -m pip install --upgrade pip\u001b[0m\n",
      "Note: you may need to restart the kernel to use updated packages.\n"
     ]
    }
   ],
   "source": [
    "pip install textblob\n"
   ]
  },
  {
   "cell_type": "code",
   "execution_count": 6,
   "id": "48b79dae",
   "metadata": {},
   "outputs": [
    {
     "name": "stdout",
     "output_type": "stream",
     "text": [
      "✅ Инвестиционные рейтинги сохранены в reports/investment_scores.json\n"
     ]
    }
   ],
   "source": [
    "\n",
    "import json\n",
    "from textblob import TextBlob\n",
    "\n",
    "def analyze_review_sentiment(text):\n",
    "    \"\"\"Анализ тональности отзыва с использованием TextBlob\"\"\"\n",
    "    blob = TextBlob(text)\n",
    "    return blob.sentiment.polarity  # -1 to 1\n",
    "\n",
    "def compute_investment_score(business):\n",
    "    reviews = business.get(\"reviews\", [])\n",
    "    if not reviews:\n",
    "        return 0\n",
    "\n",
    "    total_rating = 0\n",
    "    total_sentiment = 0\n",
    "    for review in reviews:\n",
    "        rating = review.get(\"rating\", 0)\n",
    "        text = review.get(\"text\", \"\")\n",
    "        sentiment = analyze_review_sentiment(text)\n",
    "        total_rating += rating\n",
    "        total_sentiment += sentiment\n",
    "\n",
    "    avg_rating = total_rating / len(reviews)\n",
    "    avg_sentiment = total_sentiment / len(reviews)\n",
    "    count_reviews = len(reviews)\n",
    "\n",
    "    # Финальный скор (можно подстроить веса)\n",
    "    investment_score = (avg_rating * 0.5) + (avg_sentiment * 2) + (count_reviews * 0.05)\n",
    "    return round(investment_score, 2)\n",
    "\n",
    "# Загрузка данных\n",
    "with open(\"/Users/margotiamanova/Desktop/google_maps_api/places_analysis/data/places_results.json\", \"r\") as f:\n",
    "    data = json.load(f)\n",
    "\n",
    "# Создание отчета\n",
    "results = []\n",
    "for place in data.get(\"places\", []):\n",
    "    name = place.get(\"name\")\n",
    "    reviews = place.get(\"reviews\", [])\n",
    "    score = compute_investment_score(place)\n",
    "    results.append({\n",
    "        \"name\": name,\n",
    "        \"investment_score\": score,\n",
    "        \"reviews_count\": len(reviews),\n",
    "        \"rating\": place.get(\"rating\")\n",
    "    })\n",
    "\n",
    "# Сохранение\n",
    "with open(\"reports/investment_scores.json\", \"w\") as f:\n",
    "    json.dump(results, f, indent=2, ensure_ascii=False)\n",
    "\n",
    "print(\"✅ Инвестиционные рейтинги сохранены в reports/investment_scores.json\")\n"
   ]
  }
 ],
 "metadata": {
  "kernelspec": {
   "display_name": "Python 3",
   "language": "python",
   "name": "python3"
  },
  "language_info": {
   "codemirror_mode": {
    "name": "ipython",
    "version": 3
   },
   "file_extension": ".py",
   "mimetype": "text/x-python",
   "name": "python",
   "nbconvert_exporter": "python",
   "pygments_lexer": "ipython3",
   "version": "3.10.10"
  }
 },
 "nbformat": 4,
 "nbformat_minor": 5
}
